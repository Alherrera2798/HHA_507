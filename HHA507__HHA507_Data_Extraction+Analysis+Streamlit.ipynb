{
  "nbformat": 4,
  "nbformat_minor": 0,
  "metadata": {
    "colab": {
      "name": "HHA507_ HHA507_Data_Extraction+Analysis+Streamlit.ipynb",
      "provenance": [],
      "collapsed_sections": [],
      "authorship_tag": "ABX9TyOQjkUijAxe0DtzVWHEG7yi",
      "include_colab_link": true
    },
    "kernelspec": {
      "name": "python3",
      "display_name": "Python 3"
    },
    "language_info": {
      "name": "python"
    }
  },
  "cells": [
    {
      "cell_type": "markdown",
      "metadata": {
        "id": "view-in-github",
        "colab_type": "text"
      },
      "source": [
        "<a href=\"https://colab.research.google.com/github/Alherrera2798/HHA_507/blob/main/HHA507__HHA507_Data_Extraction%2BAnalysis%2BStreamlit.ipynb\" target=\"_parent\"><img src=\"https://colab.research.google.com/assets/colab-badge.svg\" alt=\"Open In Colab\"/></a>"
      ]
    },
    {
      "cell_type": "markdown",
      "source": [
        "#**PART 1: Data analysis**\n",
        "* Data cleaning and transformation, any initial exploratory analysis that you need to conduct"
      ],
      "metadata": {
        "id": "V6GUSOA2ztF_"
      }
    },
    {
      "cell_type": "code",
      "execution_count": 2,
      "metadata": {
        "id": "q3qerfkdyhwt"
      },
      "outputs": [],
      "source": [
        "import pandas as pd\n",
        "import numpy as np\n",
        "import sweetviz \n",
        "import pandas_profiling \n",
        "import streamlit as st"
      ]
    },
    {
      "cell_type": "code",
      "source": [
        "from pandas_profiling import ProfileReport"
      ],
      "metadata": {
        "id": "_9UdNJ4e5gYp"
      },
      "execution_count": 4,
      "outputs": []
    },
    {
      "cell_type": "code",
      "source": [
        "!pip install https://github.com/pandas-profiling/pandas-profiling/archive/master.zip"
      ],
      "metadata": {
        "id": "BUbseBue4ChF"
      },
      "execution_count": null,
      "outputs": []
    },
    {
      "cell_type": "code",
      "source": [
        "!pip install sweetviz"
      ],
      "metadata": {
        "id": "iXoKPSjWzjfk"
      },
      "execution_count": null,
      "outputs": []
    },
    {
      "cell_type": "code",
      "source": [
        "!pip install streamlit"
      ],
      "metadata": {
        "id": "YwDsFd74jMBy"
      },
      "execution_count": null,
      "outputs": []
    },
    {
      "cell_type": "markdown",
      "source": [
        "#Loading, importing, Extract, Transform, & Loading data.\n"
      ],
      "metadata": {
        "id": "iCzehSBl0-6U"
      }
    },
    {
      "cell_type": "code",
      "source": [
        "#loading files\n",
        "hospital_info = pd.read_csv('https://raw.githubusercontent.com/hantswilliams/AHI_DataSci_507/main/Deployment_Streamlit/hospital_info.csv')\n",
        "inpatient_2015 = pd.read_csv('https://raw.githubusercontent.com/hantswilliams/AHI_DataSci_507/main/Deployment_Streamlit/inpatient_2015.csv')\n",
        "outpatient_2015 = pd.read_csv('https://raw.githubusercontent.com/hantswilliams/AHI_DataSci_507/main/Deployment_Streamlit/outpatient_2015.csv') "
      ],
      "metadata": {
        "id": "cfu2hOFD0gtN"
      },
      "execution_count": 10,
      "outputs": []
    },
    {
      "cell_type": "code",
      "source": [
        "# look @ length of each dataset\n",
        "print('Hospital Info Length:', len(hospital_info))\n",
        "#Length: 5,314\n",
        "print('Inpatient Length:', len(inpatient_2015))\n",
        "#Length: 201,876\n",
        "print('Outpatient Length:', len(outpatient_2015))\n",
        "#Length: 32,532"
      ],
      "metadata": {
        "colab": {
          "base_uri": "https://localhost:8080/"
        },
        "id": "PWPgpw2W1ZWJ",
        "outputId": "c75261c5-49bb-4d70-e566-f98a3ff478a7"
      },
      "execution_count": 15,
      "outputs": [
        {
          "output_type": "stream",
          "name": "stdout",
          "text": [
            "Hospital Info Length: 5314\n",
            "Inpatient Length: 201876\n",
            "Outpatient Length: 32532\n"
          ]
        }
      ]
    },
    {
      "cell_type": "markdown",
      "source": [
        "#Generate a profile report of each dataframe\n",
        "1. Pandas Profiling Report - Hospital Info\n",
        "2. Pandas Profiling Report - Inpatient_2015\n",
        "3. Pandas Profiling Report - Outpatient_2015  "
      ],
      "metadata": {
        "id": "LJ1tsWrsAXDq"
      }
    },
    {
      "cell_type": "code",
      "source": [
        "hos_profile = ProfileReport(hospital_info, title = 'Pandas Profiling Report - Hospital Info')\n",
        "hos_profile"
      ],
      "metadata": {
        "id": "s6uWmLMH2JQu"
      },
      "execution_count": null,
      "outputs": []
    },
    {
      "cell_type": "code",
      "source": [
        "inp_profile = ProfileReport(inpatient_2015, title = 'Pandas Profiling Report - Inpatient Info')\n",
        "inp_profile"
      ],
      "metadata": {
        "id": "5nZgG9PzOtzD"
      },
      "execution_count": null,
      "outputs": []
    },
    {
      "cell_type": "code",
      "source": [
        "outp_profile = ProfileReport(outpatient_2015, title = 'Pandas Profiling Report - Outptient Info')\n",
        "outp_profile"
      ],
      "metadata": {
        "id": "s7FSM9p_SlL7"
      },
      "execution_count": null,
      "outputs": []
    },
    {
      "cell_type": "markdown",
      "source": [
        "List of each data set"
      ],
      "metadata": {
        "id": "y0ku2-Spd_cp"
      }
    },
    {
      "cell_type": "code",
      "source": [
        "list(hospital_info)\n",
        "#Each list contains a certain attribute that corresponsed to hospital information"
      ],
      "metadata": {
        "id": "DK0TOY6keGL5"
      },
      "execution_count": null,
      "outputs": []
    },
    {
      "cell_type": "code",
      "source": [
        "list (inpatient_2015)\n",
        "#Each list contains attributes of provider information, location, drug info, cost payment "
      ],
      "metadata": {
        "colab": {
          "base_uri": "https://localhost:8080/"
        },
        "id": "dH4NRVUfeZnc",
        "outputId": "d4d385c6-c896-414b-f4bf-e8f25d90b150"
      },
      "execution_count": 19,
      "outputs": [
        {
          "output_type": "execute_result",
          "data": {
            "text/plain": [
              "['provider_id',\n",
              " 'provider_name',\n",
              " 'provider_street_address',\n",
              " 'provider_city',\n",
              " 'provider_state',\n",
              " 'provider_zipcode',\n",
              " 'drg_definition',\n",
              " 'hospital_referral_region_description',\n",
              " 'total_discharges',\n",
              " 'average_covered_charges',\n",
              " 'average_total_payments',\n",
              " 'average_medicare_payments']"
            ]
          },
          "metadata": {},
          "execution_count": 19
        }
      ]
    },
    {
      "cell_type": "code",
      "source": [
        "list(outpatient_2015)\n",
        "#Each lisist contains infromation about unique ambulatory payment classifications code (APC) location, services, and amount of charge for ambulatory care"
      ],
      "metadata": {
        "colab": {
          "base_uri": "https://localhost:8080/"
        },
        "id": "asZnBsvJgSmf",
        "outputId": "a4782d45-a915-4f38-ee2b-2f9bf4837804"
      },
      "execution_count": 20,
      "outputs": [
        {
          "output_type": "execute_result",
          "data": {
            "text/plain": [
              "['provider_id',\n",
              " 'provider_name',\n",
              " 'provider_street_address',\n",
              " 'provider_city',\n",
              " 'provider_state',\n",
              " 'provider_zipcode',\n",
              " 'apc',\n",
              " 'hospital_referral_region',\n",
              " 'outpatient_services',\n",
              " 'average_estimated_submitted_charges',\n",
              " 'average_total_payments']"
            ]
          },
          "metadata": {},
          "execution_count": 20
        }
      ]
    },
    {
      "cell_type": "code",
      "source": [
        "st.title('STREAMLIT APP DEPLOYMENT')\n",
        "st.write('Welcome, *Everyone!* :sunglasses:')"
      ],
      "metadata": {
        "id": "BwcgaFKbjD9_"
      },
      "execution_count": 10,
      "outputs": []
    },
    {
      "cell_type": "code",
      "source": [
        ""
      ],
      "metadata": {
        "id": "QpP_0N7ml_1B"
      },
      "execution_count": null,
      "outputs": []
    }
  ]
}